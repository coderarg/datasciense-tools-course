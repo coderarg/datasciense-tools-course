{
 "cells": [
  {
   "cell_type": "markdown",
   "id": "9f7b4250-20b9-468e-af1d-6663c2723863",
   "metadata": {},
   "source": [
    "# Data Science Tools and Ecosystem"
   ]
  },
  {
   "cell_type": "markdown",
   "id": "e7b64ed2-557f-401b-9d8c-c177ed66f2de",
   "metadata": {},
   "source": [
    "En este cuaderno de Jupyther haremos un breve resumen las herramientas y ecosistemas más utilizadas en el mundo de la ciencia de datos."
   ]
  },
  {
   "cell_type": "markdown",
   "id": "2f263aa4-3959-4a9b-a35b-328f7c2f9e79",
   "metadata": {},
   "source": [
    "__Objetivos__\n",
    "- Lenguajes populares en Ciencia de Datos.\n",
    "- Librarías más utilizadas por los Científicos de Datos.\n",
    "- Herramientas para la Ciencia de Datos.\n",
    "- Repositorios, Git y GitHub."
   ]
  },
  {
   "cell_type": "markdown",
   "id": "37c8c0a2-c618-4253-8cd3-1c783f89cfa2",
   "metadata": {},
   "source": [
    "Alguno de los lenguajes populares que utilizan los científicos de datos son:\n",
    "1. Python\n",
    "2. R\n",
    "3. JavaScript"
   ]
  },
  {
   "cell_type": "markdown",
   "id": "0d82f694-0469-4aa3-919d-5ded96a57dbc",
   "metadata": {},
   "source": [
    "Algunas de las bibliotecas comúnmente utilizadas por los científicos de datos inlcuyen:\n",
    "1. Python - Matplolib\n",
    "2. Python - Numpy\n",
    "3. Python - Pandas\n",
    "4. R - ggplot\n",
    "5. R - GGally\n",
    "6. R - caret"
   ]
  },
  {
   "cell_type": "markdown",
   "id": "66f6176d-d7d0-41be-b2ea-b37acb79aeb3",
   "metadata": {},
   "source": [
    "|Herramientas de Ciencia de Datos|\n",
    "|--------------------------------|\n",
    "| Visual Studio Code |\n",
    "| RStudio |\n",
    "| Anaconda |\n",
    "| Git & GitHub |\n",
    "| Jupyter & JupyterLab |"
   ]
  },
  {
   "cell_type": "markdown",
   "id": "ce23e7cd-72c8-4614-9f06-34f6ed9ab06c",
   "metadata": {},
   "source": [
    "### A continuación, se presentan algunos ejemplos de evaluación de expresiones aritméticas en Python."
   ]
  },
  {
   "cell_type": "code",
   "execution_count": 2,
   "id": "167e043a-6842-4028-8cd2-735af88d0404",
   "metadata": {},
   "outputs": [
    {
     "data": {
      "text/plain": [
       "7"
      ]
     },
     "execution_count": 2,
     "metadata": {},
     "output_type": "execute_result"
    }
   ],
   "source": [
    "# Suma de dos números enteros\n",
    "2 + 5"
   ]
  },
  {
   "cell_type": "code",
   "execution_count": 6,
   "id": "2d8a1339-15e4-4f54-8014-866c1936c1b7",
   "metadata": {},
   "outputs": [
    {
     "data": {
      "text/plain": [
       "3"
      ]
     },
     "execution_count": 6,
     "metadata": {},
     "output_type": "execute_result"
    }
   ],
   "source": [
    "# Resta de dos números enteros\n",
    "5 - 2"
   ]
  },
  {
   "cell_type": "code",
   "execution_count": 4,
   "id": "d5b28a16-0239-419d-99c7-d2ebdf531e3c",
   "metadata": {},
   "outputs": [
    {
     "data": {
      "text/plain": [
       "3.0"
      ]
     },
     "execution_count": 4,
     "metadata": {},
     "output_type": "execute_result"
    }
   ],
   "source": [
    "# División entre dos números enteros\n",
    "6 / 2"
   ]
  },
  {
   "cell_type": "code",
   "execution_count": 5,
   "id": "20e5c399-e984-4bb8-b7ca-c75dc9b1340a",
   "metadata": {},
   "outputs": [
    {
     "data": {
      "text/plain": [
       "15"
      ]
     },
     "execution_count": 5,
     "metadata": {},
     "output_type": "execute_result"
    }
   ],
   "source": [
    "# Multiplicación de dos números enteros\n",
    "3 * 5"
   ]
  },
  {
   "cell_type": "code",
   "execution_count": 7,
   "id": "31847e2b-e819-4ac2-bb9d-eb9a31ca2fcf",
   "metadata": {},
   "outputs": [
    {
     "data": {
      "text/plain": [
       "17"
      ]
     },
     "execution_count": 7,
     "metadata": {},
     "output_type": "execute_result"
    }
   ],
   "source": [
    "# Esta es una expresión aritmética simple para multiplicar y luego sumar enteros:\n",
    "(3*4)+5"
   ]
  },
  {
   "cell_type": "code",
   "execution_count": 12,
   "id": "5fad85b8-cf01-4640-ba55-70ca3811b4fb",
   "metadata": {},
   "outputs": [
    {
     "data": {
      "text/plain": [
       "'200 mimutos equivalenten a 3.3333333333333335 horas'"
      ]
     },
     "execution_count": 12,
     "metadata": {},
     "output_type": "execute_result"
    }
   ],
   "source": [
    "# Esto convertirá 200 minutos a horas dividiendo por 60\n",
    "minutos = 200\n",
    "horas = minutos / 60\n",
    "f'{minutos} mimutos equivalenten a {horas} horas'"
   ]
  },
  {
   "cell_type": "markdown",
   "id": "d392b2de-16ce-4314-85e2-f9b5a42c8d58",
   "metadata": {},
   "source": [
    "## Autor\n",
    "Lucas Jorge García"
   ]
  }
 ],
 "metadata": {
  "kernelspec": {
   "display_name": "Python 3 (ipykernel)",
   "language": "python",
   "name": "python3"
  },
  "language_info": {
   "codemirror_mode": {
    "name": "ipython",
    "version": 3
   },
   "file_extension": ".py",
   "mimetype": "text/x-python",
   "name": "python",
   "nbconvert_exporter": "python",
   "pygments_lexer": "ipython3",
   "version": "3.12.8"
  }
 },
 "nbformat": 4,
 "nbformat_minor": 5
}
